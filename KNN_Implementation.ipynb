{
  "nbformat": 4,
  "nbformat_minor": 0,
  "metadata": {
    "colab": {
      "name": "KNN_Implementation.ipynb",
      "provenance": [],
      "collapsed_sections": [],
      "authorship_tag": "ABX9TyNz89B2dNBR7QG6LuNLq0Pv",
      "include_colab_link": true
    },
    "kernelspec": {
      "name": "python3",
      "display_name": "Python 3"
    },
    "language_info": {
      "name": "python"
    }
  },
  "cells": [
    {
      "cell_type": "markdown",
      "metadata": {
        "id": "view-in-github",
        "colab_type": "text"
      },
      "source": [
        "<a href=\"https://colab.research.google.com/github/AnilKumar-06/ML_Models/blob/main/KNN_Implementation.ipynb\" target=\"_parent\"><img src=\"https://colab.research.google.com/assets/colab-badge.svg\" alt=\"Open In Colab\"/></a>"
      ]
    },
    {
      "cell_type": "code",
      "execution_count": 2,
      "metadata": {
        "colab": {
          "base_uri": "https://localhost:8080/"
        },
        "id": "zkGRJ68mak2i",
        "outputId": "41154c6e-19e2-4061-aa24-ea7d97c03d61"
      },
      "outputs": [
        {
          "output_type": "stream",
          "name": "stdout",
          "text": [
            "Mounted at /content/drive/\n"
          ]
        }
      ],
      "source": [
        "from google.colab import drive\n",
        "drive.mount('/content/drive/')"
      ]
    },
    {
      "cell_type": "code",
      "source": [
        "import pandas as pd\n",
        "import numpy as np\n",
        "import matplotlib.pyplot as plt\n",
        "import seaborn as sns\n",
        "from sklearn.neighbors import KNeighborsClassifier\n",
        "from sklearn.metrics import classification_report\n",
        "from sklearn.model_selection import train_test_split\n",
        "from sklearn.metrics import roc_auc_score\n",
        "import warnings\n",
        "warnings.filterwarnings('ignore')"
      ],
      "metadata": {
        "id": "wSZOdA8RbdnR"
      },
      "execution_count": 3,
      "outputs": []
    },
    {
      "cell_type": "code",
      "source": [
        "data = pd.read_csv(\"/content/drive/MyDrive/heart.csv\")\n",
        "data.head()"
      ],
      "metadata": {
        "colab": {
          "base_uri": "https://localhost:8080/",
          "height": 270
        },
        "id": "GZxa6Rbx0F3I",
        "outputId": "4f63d4e2-b3ac-4d31-8877-6a2b27f8a122"
      },
      "execution_count": 4,
      "outputs": [
        {
          "output_type": "execute_result",
          "data": {
            "text/plain": [
              "   age  sex  cp  trestbps  chol  fbs  restecg  thalach  exang  oldpeak  slope  \\\n",
              "0   63    1   3       145   233    1        0      150      0      2.3      0   \n",
              "1   37    1   2       130   250    0        1      187      0      3.5      0   \n",
              "2   41    0   1       130   204    0        0      172      0      1.4      2   \n",
              "3   56    1   1       120   236    0        1      178      0      0.8      2   \n",
              "4   57    0   0       120   354    0        1      163      1      0.6      2   \n",
              "\n",
              "   ca  thal  target  \n",
              "0   0     1       1  \n",
              "1   0     2       1  \n",
              "2   0     2       1  \n",
              "3   0     2       1  \n",
              "4   0     2       1  "
            ],
            "text/html": [
              "\n",
              "  <div id=\"df-c95691d9-9887-4469-9ee1-bea0f0fe4a47\">\n",
              "    <div class=\"colab-df-container\">\n",
              "      <div>\n",
              "<style scoped>\n",
              "    .dataframe tbody tr th:only-of-type {\n",
              "        vertical-align: middle;\n",
              "    }\n",
              "\n",
              "    .dataframe tbody tr th {\n",
              "        vertical-align: top;\n",
              "    }\n",
              "\n",
              "    .dataframe thead th {\n",
              "        text-align: right;\n",
              "    }\n",
              "</style>\n",
              "<table border=\"1\" class=\"dataframe\">\n",
              "  <thead>\n",
              "    <tr style=\"text-align: right;\">\n",
              "      <th></th>\n",
              "      <th>age</th>\n",
              "      <th>sex</th>\n",
              "      <th>cp</th>\n",
              "      <th>trestbps</th>\n",
              "      <th>chol</th>\n",
              "      <th>fbs</th>\n",
              "      <th>restecg</th>\n",
              "      <th>thalach</th>\n",
              "      <th>exang</th>\n",
              "      <th>oldpeak</th>\n",
              "      <th>slope</th>\n",
              "      <th>ca</th>\n",
              "      <th>thal</th>\n",
              "      <th>target</th>\n",
              "    </tr>\n",
              "  </thead>\n",
              "  <tbody>\n",
              "    <tr>\n",
              "      <th>0</th>\n",
              "      <td>63</td>\n",
              "      <td>1</td>\n",
              "      <td>3</td>\n",
              "      <td>145</td>\n",
              "      <td>233</td>\n",
              "      <td>1</td>\n",
              "      <td>0</td>\n",
              "      <td>150</td>\n",
              "      <td>0</td>\n",
              "      <td>2.3</td>\n",
              "      <td>0</td>\n",
              "      <td>0</td>\n",
              "      <td>1</td>\n",
              "      <td>1</td>\n",
              "    </tr>\n",
              "    <tr>\n",
              "      <th>1</th>\n",
              "      <td>37</td>\n",
              "      <td>1</td>\n",
              "      <td>2</td>\n",
              "      <td>130</td>\n",
              "      <td>250</td>\n",
              "      <td>0</td>\n",
              "      <td>1</td>\n",
              "      <td>187</td>\n",
              "      <td>0</td>\n",
              "      <td>3.5</td>\n",
              "      <td>0</td>\n",
              "      <td>0</td>\n",
              "      <td>2</td>\n",
              "      <td>1</td>\n",
              "    </tr>\n",
              "    <tr>\n",
              "      <th>2</th>\n",
              "      <td>41</td>\n",
              "      <td>0</td>\n",
              "      <td>1</td>\n",
              "      <td>130</td>\n",
              "      <td>204</td>\n",
              "      <td>0</td>\n",
              "      <td>0</td>\n",
              "      <td>172</td>\n",
              "      <td>0</td>\n",
              "      <td>1.4</td>\n",
              "      <td>2</td>\n",
              "      <td>0</td>\n",
              "      <td>2</td>\n",
              "      <td>1</td>\n",
              "    </tr>\n",
              "    <tr>\n",
              "      <th>3</th>\n",
              "      <td>56</td>\n",
              "      <td>1</td>\n",
              "      <td>1</td>\n",
              "      <td>120</td>\n",
              "      <td>236</td>\n",
              "      <td>0</td>\n",
              "      <td>1</td>\n",
              "      <td>178</td>\n",
              "      <td>0</td>\n",
              "      <td>0.8</td>\n",
              "      <td>2</td>\n",
              "      <td>0</td>\n",
              "      <td>2</td>\n",
              "      <td>1</td>\n",
              "    </tr>\n",
              "    <tr>\n",
              "      <th>4</th>\n",
              "      <td>57</td>\n",
              "      <td>0</td>\n",
              "      <td>0</td>\n",
              "      <td>120</td>\n",
              "      <td>354</td>\n",
              "      <td>0</td>\n",
              "      <td>1</td>\n",
              "      <td>163</td>\n",
              "      <td>1</td>\n",
              "      <td>0.6</td>\n",
              "      <td>2</td>\n",
              "      <td>0</td>\n",
              "      <td>2</td>\n",
              "      <td>1</td>\n",
              "    </tr>\n",
              "  </tbody>\n",
              "</table>\n",
              "</div>\n",
              "      <button class=\"colab-df-convert\" onclick=\"convertToInteractive('df-c95691d9-9887-4469-9ee1-bea0f0fe4a47')\"\n",
              "              title=\"Convert this dataframe to an interactive table.\"\n",
              "              style=\"display:none;\">\n",
              "        \n",
              "  <svg xmlns=\"http://www.w3.org/2000/svg\" height=\"24px\"viewBox=\"0 0 24 24\"\n",
              "       width=\"24px\">\n",
              "    <path d=\"M0 0h24v24H0V0z\" fill=\"none\"/>\n",
              "    <path d=\"M18.56 5.44l.94 2.06.94-2.06 2.06-.94-2.06-.94-.94-2.06-.94 2.06-2.06.94zm-11 1L8.5 8.5l.94-2.06 2.06-.94-2.06-.94L8.5 2.5l-.94 2.06-2.06.94zm10 10l.94 2.06.94-2.06 2.06-.94-2.06-.94-.94-2.06-.94 2.06-2.06.94z\"/><path d=\"M17.41 7.96l-1.37-1.37c-.4-.4-.92-.59-1.43-.59-.52 0-1.04.2-1.43.59L10.3 9.45l-7.72 7.72c-.78.78-.78 2.05 0 2.83L4 21.41c.39.39.9.59 1.41.59.51 0 1.02-.2 1.41-.59l7.78-7.78 2.81-2.81c.8-.78.8-2.07 0-2.86zM5.41 20L4 18.59l7.72-7.72 1.47 1.35L5.41 20z\"/>\n",
              "  </svg>\n",
              "      </button>\n",
              "      \n",
              "  <style>\n",
              "    .colab-df-container {\n",
              "      display:flex;\n",
              "      flex-wrap:wrap;\n",
              "      gap: 12px;\n",
              "    }\n",
              "\n",
              "    .colab-df-convert {\n",
              "      background-color: #E8F0FE;\n",
              "      border: none;\n",
              "      border-radius: 50%;\n",
              "      cursor: pointer;\n",
              "      display: none;\n",
              "      fill: #1967D2;\n",
              "      height: 32px;\n",
              "      padding: 0 0 0 0;\n",
              "      width: 32px;\n",
              "    }\n",
              "\n",
              "    .colab-df-convert:hover {\n",
              "      background-color: #E2EBFA;\n",
              "      box-shadow: 0px 1px 2px rgba(60, 64, 67, 0.3), 0px 1px 3px 1px rgba(60, 64, 67, 0.15);\n",
              "      fill: #174EA6;\n",
              "    }\n",
              "\n",
              "    [theme=dark] .colab-df-convert {\n",
              "      background-color: #3B4455;\n",
              "      fill: #D2E3FC;\n",
              "    }\n",
              "\n",
              "    [theme=dark] .colab-df-convert:hover {\n",
              "      background-color: #434B5C;\n",
              "      box-shadow: 0px 1px 3px 1px rgba(0, 0, 0, 0.15);\n",
              "      filter: drop-shadow(0px 1px 2px rgba(0, 0, 0, 0.3));\n",
              "      fill: #FFFFFF;\n",
              "    }\n",
              "  </style>\n",
              "\n",
              "      <script>\n",
              "        const buttonEl =\n",
              "          document.querySelector('#df-c95691d9-9887-4469-9ee1-bea0f0fe4a47 button.colab-df-convert');\n",
              "        buttonEl.style.display =\n",
              "          google.colab.kernel.accessAllowed ? 'block' : 'none';\n",
              "\n",
              "        async function convertToInteractive(key) {\n",
              "          const element = document.querySelector('#df-c95691d9-9887-4469-9ee1-bea0f0fe4a47');\n",
              "          const dataTable =\n",
              "            await google.colab.kernel.invokeFunction('convertToInteractive',\n",
              "                                                     [key], {});\n",
              "          if (!dataTable) return;\n",
              "\n",
              "          const docLinkHtml = 'Like what you see? Visit the ' +\n",
              "            '<a target=\"_blank\" href=https://colab.research.google.com/notebooks/data_table.ipynb>data table notebook</a>'\n",
              "            + ' to learn more about interactive tables.';\n",
              "          element.innerHTML = '';\n",
              "          dataTable['output_type'] = 'display_data';\n",
              "          await google.colab.output.renderOutput(dataTable, element);\n",
              "          const docLink = document.createElement('div');\n",
              "          docLink.innerHTML = docLinkHtml;\n",
              "          element.appendChild(docLink);\n",
              "        }\n",
              "      </script>\n",
              "    </div>\n",
              "  </div>\n",
              "  "
            ]
          },
          "metadata": {},
          "execution_count": 4
        }
      ]
    },
    {
      "cell_type": "code",
      "source": [
        "data.shape"
      ],
      "metadata": {
        "colab": {
          "base_uri": "https://localhost:8080/"
        },
        "id": "jwyoQlVw0UVr",
        "outputId": "ce8fddf8-d1fb-4fa4-a8a0-26b4c641b16b"
      },
      "execution_count": 5,
      "outputs": [
        {
          "output_type": "execute_result",
          "data": {
            "text/plain": [
              "(303, 14)"
            ]
          },
          "metadata": {},
          "execution_count": 5
        }
      ]
    },
    {
      "cell_type": "code",
      "source": [
        "data.info()"
      ],
      "metadata": {
        "colab": {
          "base_uri": "https://localhost:8080/"
        },
        "id": "fdymIXVK0jCQ",
        "outputId": "bf8f9da8-730b-4aaf-f33e-a3d48c715ee8"
      },
      "execution_count": 6,
      "outputs": [
        {
          "output_type": "stream",
          "name": "stdout",
          "text": [
            "<class 'pandas.core.frame.DataFrame'>\n",
            "RangeIndex: 303 entries, 0 to 302\n",
            "Data columns (total 14 columns):\n",
            " #   Column    Non-Null Count  Dtype  \n",
            "---  ------    --------------  -----  \n",
            " 0   age       303 non-null    int64  \n",
            " 1   sex       303 non-null    int64  \n",
            " 2   cp        303 non-null    int64  \n",
            " 3   trestbps  303 non-null    int64  \n",
            " 4   chol      303 non-null    int64  \n",
            " 5   fbs       303 non-null    int64  \n",
            " 6   restecg   303 non-null    int64  \n",
            " 7   thalach   303 non-null    int64  \n",
            " 8   exang     303 non-null    int64  \n",
            " 9   oldpeak   303 non-null    float64\n",
            " 10  slope     303 non-null    int64  \n",
            " 11  ca        303 non-null    int64  \n",
            " 12  thal      303 non-null    int64  \n",
            " 13  target    303 non-null    int64  \n",
            "dtypes: float64(1), int64(13)\n",
            "memory usage: 33.3 KB\n"
          ]
        }
      ]
    },
    {
      "cell_type": "code",
      "source": [
        "data.isnull().sum()"
      ],
      "metadata": {
        "colab": {
          "base_uri": "https://localhost:8080/"
        },
        "id": "xuN-VVTU0ndi",
        "outputId": "4cb04219-c236-44ce-a99f-f722d344754d"
      },
      "execution_count": 7,
      "outputs": [
        {
          "output_type": "execute_result",
          "data": {
            "text/plain": [
              "age         0\n",
              "sex         0\n",
              "cp          0\n",
              "trestbps    0\n",
              "chol        0\n",
              "fbs         0\n",
              "restecg     0\n",
              "thalach     0\n",
              "exang       0\n",
              "oldpeak     0\n",
              "slope       0\n",
              "ca          0\n",
              "thal        0\n",
              "target      0\n",
              "dtype: int64"
            ]
          },
          "metadata": {},
          "execution_count": 7
        }
      ]
    },
    {
      "cell_type": "markdown",
      "source": [
        "# Exploratory Data Analysis"
      ],
      "metadata": {
        "id": "RLHTpl4N07E3"
      }
    },
    {
      "cell_type": "code",
      "source": [
        "#univariate analysis for target variable\n",
        "sns.countplot(data['target'])\n",
        "plt.show()"
      ],
      "metadata": {
        "colab": {
          "base_uri": "https://localhost:8080/",
          "height": 279
        },
        "id": "9MvtdcUF0zEY",
        "outputId": "58687a85-a196-4fa2-8c24-e67911b4c8e1"
      },
      "execution_count": 8,
      "outputs": [
        {
          "output_type": "display_data",
          "data": {
            "text/plain": [
              "<Figure size 432x288 with 1 Axes>"
            ],
            "image/png": "[encoded data removed]"
          },
          "metadata": {
            "needs_background": "light"
          }
        }
      ]
    },
    {
      "cell_type": "code",
      "source": [
        "#univariate analysis for the variable age\n",
        "fig = plt.figure(figsize = (20, 4))\n",
        "\n",
        "#(1,2,1)-> 1x2 plot 1->firstplot\n",
        "fig.add_subplot(1,2,1)\n",
        "sns.distplot(data['age'])\n",
        "\n",
        "fig.add_subplot(1,2,2)\n",
        "sns.boxplot(data['age'])\n",
        "\n",
        "plt.show()"
      ],
      "metadata": {
        "colab": {
          "base_uri": "https://localhost:8080/",
          "height": 170
        },
        "id": "JxKGHqzO1NNe",
        "outputId": "2f9328c1-864a-4735-b717-b298a203f99d"
      },
      "execution_count": 9,
      "outputs": [
        {
          "output_type": "display_data",
          "data": {
            "text/plain": [
              "<Figure size 1440x288 with 2 Axes>"
            ],
            "image/png": "[encoded data removed]"
          },
          "metadata": {
            "needs_background": "light"
          }
        }
      ]
    },
    {
      "cell_type": "code",
      "source": [
        "#univariate analysis for sex 1 -> male, 0 ->female , chest pain (cp) 0->typical angina, 1 -> atypical angine,\n",
        "#2 -> non original pain, 3 -> asymptotic and fasting blood sugar 1 if > 120mg/dl, 0 otherwise\n",
        "\n",
        "fig = plt.figure(figsize=(20, 4))\n",
        "\n",
        "fig.add_subplot(1,3,1)\n",
        "sns.countplot(data['sex'], color = 'red')\n",
        "\n",
        "fig.add_subplot(1,3,2)\n",
        "sns.countplot(data['cp'], color = 'green')\n",
        "\n",
        "fig.add_subplot(1,3,3)\n",
        "sns.countplot(data['fbs'], color = 'yellow')\n",
        "\n",
        "plt.show()"
      ],
      "metadata": {
        "colab": {
          "base_uri": "https://localhost:8080/",
          "height": 170
        },
        "id": "oMZiRc6T19gz",
        "outputId": "e7b23716-db87-400e-9ffb-ec00af2a00ad"
      },
      "execution_count": 10,
      "outputs": [
        {
          "output_type": "display_data",
          "data": {
            "text/plain": [
              "<Figure size 1440x288 with 3 Axes>"
            ],
            "image/png": "[encoded data removed]"
          },
          "metadata": {
            "needs_background": "light"
          }
        }
      ]
    },
    {
      "cell_type": "code",
      "source": [
        "#Univariate analysis for resting blood pressure(mm Hg) atau trestbps\n",
        "\n",
        "fig = plt.figure(figsize = (20,4))\n",
        "\n",
        "fig.add_subplot(1,2,1)\n",
        "sns.distplot(data['trestbps'])\n",
        "\n",
        "fig.add_subplot(122)\n",
        "sns.boxplot(data['trestbps'])\n",
        "plt.show()"
      ],
      "metadata": {
        "colab": {
          "base_uri": "https://localhost:8080/",
          "height": 170
        },
        "id": "cxMMIPyG-Q0C",
        "outputId": "8aff3809-df5e-430c-c470-3c0808616756"
      },
      "execution_count": 11,
      "outputs": [
        {
          "output_type": "display_data",
          "data": {
            "text/plain": [
              "<Figure size 1440x288 with 2 Axes>"
            ],
            "image/png": "[encoded data removed]"
          },
          "metadata": {
            "needs_background": "light"
          }
        }
      ]
    },
    {
      "cell_type": "code",
      "source": [
        "#univariate analysis serum cholestrol (mg/dl)\n",
        "fig = plt.figure(figsize = (20, 4))\n",
        "\n",
        "fig.add_subplot(121)\n",
        "sns.distplot(data['chol'])\n",
        "\n",
        "fig.add_subplot(122)\n",
        "sns.boxplot(data['chol'])\n",
        "\n",
        "plt.show()"
      ],
      "metadata": {
        "colab": {
          "base_uri": "https://localhost:8080/",
          "height": 170
        },
        "id": "BtBHGj2M_cNE",
        "outputId": "0c79a113-0897-4f94-f002-32b9d3170bbf"
      },
      "execution_count": 12,
      "outputs": [
        {
          "output_type": "display_data",
          "data": {
            "text/plain": [
              "<Figure size 1440x288 with 2 Axes>"
            ],
            "image/png": "[encoded data removed]"
          },
          "metadata": {
            "needs_background": "light"
          }
        }
      ]
    },
    {
      "cell_type": "code",
      "source": [
        "#univariate analysis mamximum heart rate \n",
        "fig = plt.figure(figsize = (20, 4))\n",
        "fig.add_subplot(121)\n",
        "sns.distplot(data['thalach'])\n",
        "\n",
        "fig.add_subplot(122)\n",
        "sns.boxplot(data['thalach'])\n",
        "plt.show()"
      ],
      "metadata": {
        "colab": {
          "base_uri": "https://localhost:8080/",
          "height": 169
        },
        "id": "gl0azTlld39-",
        "outputId": "e482e3c0-b2f0-4e1a-9bbb-5ed9a1067280"
      },
      "execution_count": 15,
      "outputs": [
        {
          "output_type": "display_data",
          "data": {
            "text/plain": [
              "<Figure size 1440x288 with 2 Axes>"
            ],
            "image/png": "[encoded data removed]"
          },
          "metadata": {
            "needs_background": "light"
          }
        }
      ]
    },
    {
      "cell_type": "code",
      "source": [
        "#univariate analysis for resting electrocardiographic results; 0 = normal, 1 = having ST-T wave abnormality;\n",
        "#2 = showing probable or definite left ventricular hypertrophy\n",
        "#univariate analysis excercise induced; 1=yes, 0=no\n",
        "#univariate analysis the slope of the peak excercise ST segment; 0=upsloping, 1=flat, 2=downsloping\n",
        "fig = plt.figure(figsize = (20, 4))\n",
        "\n",
        "fig.add_subplot(131)\n",
        "sns.countplot(data['restecg'], color = 'green')\n",
        "\n",
        "fig.add_subplot(132)\n",
        "sns.countplot(data['exang'], color = 'red')\n",
        "\n",
        "fig.add_subplot(133)\n",
        "sns.countplot(data['slope'], color = 'blue')\n",
        "\n",
        "plt.show()"
      ],
      "metadata": {
        "colab": {
          "base_uri": "https://localhost:8080/",
          "height": 170
        },
        "id": "mOjmItaxeukh",
        "outputId": "299c269a-9a97-4b05-890f-80c41b543232"
      },
      "execution_count": 17,
      "outputs": [
        {
          "output_type": "display_data",
          "data": {
            "text/plain": [
              "<Figure size 1440x288 with 3 Axes>"
            ],
            "image/png": "[encoded data removed]"
          },
          "metadata": {
            "needs_background": "light"
          }
        }
      ]
    },
    {
      "cell_type": "code",
      "source": [
        "#univariate analysis ST depression include by excercise relative to rest\n",
        "\n",
        "fig = plt.figure(figsize=(20, 4))\n",
        "\n",
        "fig.add_subplot(121)\n",
        "sns.distplot(data['oldpeak'])\n",
        "\n",
        "fig.add_subplot(122)\n",
        "sns.boxplot(data['oldpeak'])\n",
        "plt.show()"
      ],
      "metadata": {
        "colab": {
          "base_uri": "https://localhost:8080/",
          "height": 172
        },
        "id": "Tcq29RFGhHv6",
        "outputId": "2662e218-96d3-4714-ea83-eb5fbfb9b685"
      },
      "execution_count": 20,
      "outputs": [
        {
          "output_type": "display_data",
          "data": {
            "text/plain": [
              "<Figure size 1440x288 with 2 Axes>"
            ],
            "image/png": "[encoded data removed]"
          },
          "metadata": {
            "needs_background": "light"
          }
        }
      ]
    },
    {
      "cell_type": "code",
      "source": [
        "#univariate analysis ca number of major vessels (0-3) colored flourosopy\n",
        "#univariate analysis thal\n",
        "\n",
        "fig = plt.figure(figsize=(20, 4))\n",
        "\n",
        "fig.add_subplot(1,2,1)\n",
        "data['ca'].value_counts().plot(kind = 'bar', color='red')\n",
        "\n",
        "fig.add_subplot(1,2,2)\n",
        "data['thal'].value_counts().plot(kind = 'bar', color='green')\n",
        "plt.show()"
      ],
      "metadata": {
        "colab": {
          "base_uri": "https://localhost:8080/",
          "height": 162
        },
        "id": "PNBRFN1eiWH4",
        "outputId": "bc01ab6d-5c68-4801-b4b8-6ae41a0323ad"
      },
      "execution_count": 28,
      "outputs": [
        {
          "output_type": "display_data",
          "data": {
            "text/plain": [
              "<Figure size 1440x288 with 2 Axes>"
            ],
            "image/png": "[encoded data removed]"
          },
          "metadata": {
            "needs_background": "light"
          }
        }
      ]
    },
    {
      "cell_type": "code",
      "source": [
        "data.corr().style.background_gradient().set_precision(2)"
      ],
      "metadata": {
        "colab": {
          "base_uri": "https://localhost:8080/",
          "height": 508
        },
        "id": "B5kYQafvjoaM",
        "outputId": "be7e6997-5f91-4d24-c0e2-cf68854b9574"
      },
      "execution_count": 29,
      "outputs": [
        {
          "output_type": "execute_result",
          "data": {
            "text/plain": [
              "<pandas.io.formats.style.Styler at 0x7f4892cf8290>"
            ],
            "text/html": [
              "<style type=\"text/css\">\n",
              "#T_c5205_row0_col0, #T_c5205_row1_col1, #T_c5205_row2_col2, #T_c5205_row3_col3, #T_c5205_row4_col4, #T_c5205_row5_col5, #T_c5205_row6_col6, #T_c5205_row7_col7, #T_c5205_row8_col8, #T_c5205_row9_col9, #T_c5205_row10_col10, #T_c5205_row11_col11, #T_c5205_row12_col12, #T_c5205_row13_col13 {\n",
              "  background-color: #023858;\n",
              "  color: #f1f1f1;\n",
              "}\n",
              "#T_c5205_row0_col1 {\n",
              "  background-color: #e8e4f0;\n",
              "  color: #000000;\n",
              "}\n",
              "#T_c5205_row0_col2, #T_c5205_row4_col3, #T_c5205_row5_col12 {\n",
              "  background-color: #d4d4e8;\n",
              "  color: #000000;\n",
              "}\n",
              "#T_c5205_row0_col3, #T_c5205_row5_col9, #T_c5205_row10_col2, #T_c5205_row11_col12 {\n",
              "  background-color: #a8bedc;\n",
              "  color: #000000;\n",
              "}\n",
              "#T_c5205_row0_col4 {\n",
              "  background-color: #b1c2de;\n",
              "  color: #000000;\n",
              "}\n",
              "#T_c5205_row0_col5 {\n",
              "  background-color: #dedcec;\n",
              "  color: #000000;\n",
              "}\n",
              "#T_c5205_row0_col6, #T_c5205_row2_col8 {\n",
              "  background-color: #fbf3f9;\n",
              "  color: #000000;\n",
              "}\n",
              "#T_c5205_row0_col7, #T_c5205_row1_col4, #T_c5205_row4_col6, #T_c5205_row6_col5, #T_c5205_row7_col0, #T_c5205_row8_col2, #T_c5205_row8_col13, #T_c5205_row9_col10, #T_c5205_row10_col9, #T_c5205_row13_col1, #T_c5205_row13_col3, #T_c5205_row13_col8, #T_c5205_row13_col11, #T_c5205_row13_col12 {\n",
              "  background-color: #fff7fb;\n",
              "  color: #000000;\n",
              "}\n",
              "#T_c5205_row0_col8, #T_c5205_row5_col0 {\n",
              "  background-color: #a7bddb;\n",
              "  color: #000000;\n",
              "}\n",
              "#T_c5205_row0_col9, #T_c5205_row2_col7, #T_c5205_row12_col9 {\n",
              "  background-color: #75a9cf;\n",
              "  color: #f1f1f1;\n",
              "}\n",
              "#T_c5205_row0_col10 {\n",
              "  background-color: #cdd0e5;\n",
              "  color: #000000;\n",
              "}\n",
              "#T_c5205_row0_col11 {\n",
              "  background-color: #7dacd1;\n",
              "  color: #f1f1f1;\n",
              "}\n",
              "#T_c5205_row0_col12 {\n",
              "  background-color: #bdc8e1;\n",
              "  color: #000000;\n",
              "}\n",
              "#T_c5205_row0_col13, #T_c5205_row2_col11, #T_c5205_row7_col9 {\n",
              "  background-color: #e7e3f0;\n",
              "  color: #000000;\n",
              "}\n",
              "#T_c5205_row1_col0, #T_c5205_row9_col4, #T_c5205_row10_col6 {\n",
              "  background-color: #d9d8ea;\n",
              "  color: #000000;\n",
              "}\n",
              "#T_c5205_row1_col2, #T_c5205_row6_col12, #T_c5205_row12_col4 {\n",
              "  background-color: #d1d2e6;\n",
              "  color: #000000;\n",
              "}\n",
              "#T_c5205_row1_col3 {\n",
              "  background-color: #f4edf6;\n",
              "  color: #000000;\n",
              "}\n",
              "#T_c5205_row1_col5, #T_c5205_row12_col6 {\n",
              "  background-color: #ede8f3;\n",
              "  color: #000000;\n",
              "}\n",
              "#T_c5205_row1_col6, #T_c5205_row9_col6 {\n",
              "  background-color: #f3edf5;\n",
              "  color: #000000;\n",
              "}\n",
              "#T_c5205_row1_col7, #T_c5205_row3_col7, #T_c5205_row13_col6 {\n",
              "  background-color: #d0d1e6;\n",
              "  color: #000000;\n",
              "}\n",
              "#T_c5205_row1_col8 {\n",
              "  background-color: #9ab8d8;\n",
              "  color: #000000;\n",
              "}\n",
              "#T_c5205_row1_col9 {\n",
              "  background-color: #91b5d6;\n",
              "  color: #000000;\n",
              "}\n",
              "#T_c5205_row1_col10 {\n",
              "  background-color: #b0c2de;\n",
              "  color: #000000;\n",
              "}\n",
              "#T_c5205_row1_col11, #T_c5205_row4_col10, #T_c5205_row8_col11 {\n",
              "  background-color: #a9bfdc;\n",
              "  color: #000000;\n",
              "}\n",
              "#T_c5205_row1_col12, #T_c5205_row9_col12 {\n",
              "  background-color: #97b7d7;\n",
              "  color: #000000;\n",
              "}\n",
              "#T_c5205_row1_col13 {\n",
              "  background-color: #efe9f3;\n",
              "  color: #000000;\n",
              "}\n",
              "#T_c5205_row2_col0 {\n",
              "  background-color: #d3d4e7;\n",
              "  color: #000000;\n",
              "}\n",
              "#T_c5205_row2_col1, #T_c5205_row12_col3 {\n",
              "  background-color: #e0dded;\n",
              "  color: #000000;\n",
              "}\n",
              "#T_c5205_row2_col3, #T_c5205_row2_col6, #T_c5205_row7_col6 {\n",
              "  background-color: #e2dfee;\n",
              "  color: #000000;\n",
              "}\n",
              "#T_c5205_row2_col4, #T_c5205_row8_col5 {\n",
              "  background-color: #f0eaf4;\n",
              "  color: #000000;\n",
              "}\n",
              "#T_c5205_row2_col5, #T_c5205_row10_col0, #T_c5205_row12_col2 {\n",
              "  background-color: #e3e0ee;\n",
              "  color: #000000;\n",
              "}\n",
              "#T_c5205_row2_col9 {\n",
              "  background-color: #c9cee4;\n",
              "  color: #000000;\n",
              "}\n",
              "#T_c5205_row2_col10, #T_c5205_row9_col11 {\n",
              "  background-color: #8bb2d4;\n",
              "  color: #000000;\n",
              "}\n",
              "#T_c5205_row2_col12 {\n",
              "  background-color: #eae6f1;\n",
              "  color: #000000;\n",
              "}\n",
              "#T_c5205_row2_col13 {\n",
              "  background-color: #3f93c2;\n",
              "  color: #f1f1f1;\n",
              "}\n",
              "#T_c5205_row3_col0 {\n",
              "  background-color: #79abd0;\n",
              "  color: #f1f1f1;\n",
              "}\n",
              "#T_c5205_row3_col1, #T_c5205_row6_col1, #T_c5205_row9_col2 {\n",
              "  background-color: #e1dfed;\n",
              "  color: #000000;\n",
              "}\n",
              "#T_c5205_row3_col2, #T_c5205_row6_col7 {\n",
              "  background-color: #b9c6e0;\n",
              "  color: #000000;\n",
              "}\n",
              "#T_c5205_row3_col4 {\n",
              "  background-color: #cacee5;\n",
              "  color: #000000;\n",
              "}\n",
              "#T_c5205_row3_col5 {\n",
              "  background-color: #d2d3e7;\n",
              "  color: #000000;\n",
              "}\n",
              "#T_c5205_row3_col6, #T_c5205_row11_col13 {\n",
              "  background-color: #faf3f9;\n",
              "  color: #000000;\n",
              "}\n",
              "#T_c5205_row3_col8, #T_c5205_row4_col8, #T_c5205_row5_col2 {\n",
              "  background-color: #afc1dd;\n",
              "  color: #000000;\n",
              "}\n",
              "#T_c5205_row3_col9 {\n",
              "  background-color: #78abd0;\n",
              "  color: #f1f1f1;\n",
              "}\n",
              "#T_c5205_row3_col10 {\n",
              "  background-color: #c2cbe2;\n",
              "  color: #000000;\n",
              "}\n",
              "#T_c5205_row3_col11, #T_c5205_row8_col0 {\n",
              "  background-color: #adc1dd;\n",
              "  color: #000000;\n",
              "}\n",
              "#T_c5205_row3_col12 {\n",
              "  background-color: #bfc9e1;\n",
              "  color: #000000;\n",
              "}\n",
              "#T_c5205_row3_col13, #T_c5205_row6_col0, #T_c5205_row8_col10 {\n",
              "  background-color: #dbdaeb;\n",
              "  color: #000000;\n",
              "}\n",
              "#T_c5205_row4_col0 {\n",
              "  background-color: #8cb3d5;\n",
              "  color: #000000;\n",
              "}\n",
              "#T_c5205_row4_col1, #T_c5205_row12_col13 {\n",
              "  background-color: #f5eff6;\n",
              "  color: #000000;\n",
              "}\n",
              "#T_c5205_row4_col2, #T_c5205_row6_col11 {\n",
              "  background-color: #d5d5e8;\n",
              "  color: #000000;\n",
              "}\n",
              "#T_c5205_row4_col5, #T_c5205_row13_col9 {\n",
              "  background-color: #f1ebf5;\n",
              "  color: #000000;\n",
              "}\n",
              "#T_c5205_row4_col7, #T_c5205_row5_col7 {\n",
              "  background-color: #c6cce3;\n",
              "  color: #000000;\n",
              "}\n",
              "#T_c5205_row4_col9, #T_c5205_row6_col13 {\n",
              "  background-color: #9cb9d9;\n",
              "  color: #000000;\n",
              "}\n",
              "#T_c5205_row4_col11, #T_c5205_row12_col0 {\n",
              "  background-color: #b4c4df;\n",
              "  color: #000000;\n",
              "}\n",
              "#T_c5205_row4_col12, #T_c5205_row5_col10, #T_c5205_row6_col9, #T_c5205_row8_col1 {\n",
              "  background-color: #b5c4df;\n",
              "  color: #000000;\n",
              "}\n",
              "#T_c5205_row4_col13 {\n",
              "  background-color: #d2d2e7;\n",
              "  color: #000000;\n",
              "}\n",
              "#T_c5205_row5_col1, #T_c5205_row6_col8 {\n",
              "  background-color: #ced0e6;\n",
              "  color: #000000;\n",
              "}\n",
              "#T_c5205_row5_col3, #T_c5205_row5_col13 {\n",
              "  background-color: #c5cce3;\n",
              "  color: #000000;\n",
              "}\n",
              "#T_c5205_row5_col4, #T_c5205_row10_col12 {\n",
              "  background-color: #e0deed;\n",
              "  color: #000000;\n",
              "}\n",
              "#T_c5205_row5_col6, #T_c5205_row13_col5 {\n",
              "  background-color: #f7f0f7;\n",
              "  color: #000000;\n",
              "}\n",
              "#T_c5205_row5_col8 {\n",
              "  background-color: #b8c6e0;\n",
              "  color: #000000;\n",
              "}\n",
              "#T_c5205_row5_col11 {\n",
              "  background-color: #a4bcda;\n",
              "  color: #000000;\n",
              "}\n",
              "#T_c5205_row6_col2, #T_c5205_row11_col10 {\n",
              "  background-color: #bbc7e0;\n",
              "  color: #000000;\n",
              "}\n",
              "#T_c5205_row6_col3 {\n",
              "  background-color: #fbf4f9;\n",
              "  color: #000000;\n",
              "}\n",
              "#T_c5205_row6_col4, #T_c5205_row7_col8 {\n",
              "  background-color: #f9f2f8;\n",
              "  color: #000000;\n",
              "}\n",
              "#T_c5205_row6_col10 {\n",
              "  background-color: #93b5d6;\n",
              "  color: #000000;\n",
              "}\n",
              "#T_c5205_row7_col1, #T_c5205_row7_col12, #T_c5205_row8_col3 {\n",
              "  background-color: #dfddec;\n",
              "  color: #000000;\n",
              "}\n",
              "#T_c5205_row7_col2 {\n",
              "  background-color: #76aad0;\n",
              "  color: #f1f1f1;\n",
              "}\n",
              "#T_c5205_row7_col3, #T_c5205_row9_col5 {\n",
              "  background-color: #f2ecf5;\n",
              "  color: #000000;\n",
              "}\n",
              "#T_c5205_row7_col4 {\n",
              "  background-color: #e5e1ef;\n",
              "  color: #000000;\n",
              "}\n",
              "#T_c5205_row7_col5, #T_c5205_row8_col6, #T_c5205_row11_col6 {\n",
              "  background-color: #f5eef6;\n",
              "  color: #000000;\n",
              "}\n",
              "#T_c5205_row7_col10 {\n",
              "  background-color: #3d93c2;\n",
              "  color: #f1f1f1;\n",
              "}\n",
              "#T_c5205_row7_col11 {\n",
              "  background-color: #ece7f2;\n",
              "  color: #000000;\n",
              "}\n",
              "#T_c5205_row7_col13, #T_c5205_row13_col2 {\n",
              "  background-color: #4496c3;\n",
              "  color: #f1f1f1;\n",
              "}\n",
              "#T_c5205_row8_col4 {\n",
              "  background-color: #d7d6e9;\n",
              "  color: #000000;\n",
              "}\n",
              "#T_c5205_row8_col7 {\n",
              "  background-color: #fdf5fa;\n",
              "  color: #000000;\n",
              "}\n",
              "#T_c5205_row8_col9 {\n",
              "  background-color: #5c9fc9;\n",
              "  color: #f1f1f1;\n",
              "}\n",
              "#T_c5205_row8_col12 {\n",
              "  background-color: #99b8d8;\n",
              "  color: #000000;\n",
              "}\n",
              "#T_c5205_row9_col0 {\n",
              "  background-color: #8eb3d5;\n",
              "  color: #000000;\n",
              "}\n",
              "#T_c5205_row9_col1, #T_c5205_row9_col3 {\n",
              "  background-color: #c1cae2;\n",
              "  color: #000000;\n",
              "}\n",
              "#T_c5205_row9_col7 {\n",
              "  background-color: #faf2f8;\n",
              "  color: #000000;\n",
              "}\n",
              "#T_c5205_row9_col8, #T_c5205_row11_col9 {\n",
              "  background-color: #71a8ce;\n",
              "  color: #f1f1f1;\n",
              "}\n",
              "#T_c5205_row9_col13 {\n",
              "  background-color: #fef6fb;\n",
              "  color: #000000;\n",
              "}\n",
              "#T_c5205_row10_col1 {\n",
              "  background-color: #dcdaeb;\n",
              "  color: #000000;\n",
              "}\n",
              "#T_c5205_row10_col3, #T_c5205_row10_col5 {\n",
              "  background-color: #fcf4fa;\n",
              "  color: #000000;\n",
              "}\n",
              "#T_c5205_row10_col4 {\n",
              "  background-color: #e4e1ef;\n",
              "  color: #000000;\n",
              "}\n",
              "#T_c5205_row10_col7 {\n",
              "  background-color: #569dc8;\n",
              "  color: #f1f1f1;\n",
              "}\n",
              "#T_c5205_row10_col8, #T_c5205_row13_col0 {\n",
              "  background-color: #ede7f2;\n",
              "  color: #000000;\n",
              "}\n",
              "#T_c5205_row10_col11, #T_c5205_row11_col4 {\n",
              "  background-color: #d6d6e9;\n",
              "  color: #000000;\n",
              "}\n",
              "#T_c5205_row10_col13 {\n",
              "  background-color: #5ea0ca;\n",
              "  color: #f1f1f1;\n",
              "}\n",
              "#T_c5205_row11_col0 {\n",
              "  background-color: #7bacd1;\n",
              "  color: #f1f1f1;\n",
              "}\n",
              "#T_c5205_row11_col1 {\n",
              "  background-color: #bcc7e1;\n",
              "  color: #000000;\n",
              "}\n",
              "#T_c5205_row11_col2 {\n",
              "  background-color: #e6e2ef;\n",
              "  color: #000000;\n",
              "}\n",
              "#T_c5205_row11_col3, #T_c5205_row12_col7 {\n",
              "  background-color: #d8d7e9;\n",
              "  color: #000000;\n",
              "}\n",
              "#T_c5205_row11_col5 {\n",
              "  background-color: #dad9ea;\n",
              "  color: #000000;\n",
              "}\n",
              "#T_c5205_row11_col7 {\n",
              "  background-color: #ebe6f2;\n",
              "  color: #000000;\n",
              "}\n",
              "#T_c5205_row11_col8, #T_c5205_row12_col1 {\n",
              "  background-color: #a2bcda;\n",
              "  color: #000000;\n",
              "}\n",
              "#T_c5205_row12_col5 {\n",
              "  background-color: #f8f1f8;\n",
              "  color: #000000;\n",
              "}\n",
              "#T_c5205_row12_col8 {\n",
              "  background-color: #89b1d4;\n",
              "  color: #000000;\n",
              "}\n",
              "#T_c5205_row12_col10 {\n",
              "  background-color: #c0c9e2;\n",
              "  color: #000000;\n",
              "}\n",
              "#T_c5205_row12_col11 {\n",
              "  background-color: #a1bbda;\n",
              "  color: #000000;\n",
              "}\n",
              "#T_c5205_row13_col4 {\n",
              "  background-color: #f1ebf4;\n",
              "  color: #000000;\n",
              "}\n",
              "#T_c5205_row13_col7 {\n",
              "  background-color: #4897c4;\n",
              "  color: #f1f1f1;\n",
              "}\n",
              "#T_c5205_row13_col10 {\n",
              "  background-color: #4a98c5;\n",
              "  color: #f1f1f1;\n",
              "}\n",
              "</style>\n",
              "<table id=\"T_c5205_\" class=\"dataframe\">\n",
              "  <thead>\n",
              "    <tr>\n",
              "      <th class=\"blank level0\" >&nbsp;</th>\n",
              "      <th class=\"col_heading level0 col0\" >age</th>\n",
              "      <th class=\"col_heading level0 col1\" >sex</th>\n",
              "      <th class=\"col_heading level0 col2\" >cp</th>\n",
              "      <th class=\"col_heading level0 col3\" >trestbps</th>\n",
              "      <th class=\"col_heading level0 col4\" >chol</th>\n",
              "      <th class=\"col_heading level0 col5\" >fbs</th>\n",
              "      <th class=\"col_heading level0 col6\" >restecg</th>\n",
              "      <th class=\"col_heading level0 col7\" >thalach</th>\n",
              "      <th class=\"col_heading level0 col8\" >exang</th>\n",
              "      <th class=\"col_heading level0 col9\" >oldpeak</th>\n",
              "      <th class=\"col_heading level0 col10\" >slope</th>\n",
              "      <th class=\"col_heading level0 col11\" >ca</th>\n",
              "      <th class=\"col_heading level0 col12\" >thal</th>\n",
              "      <th class=\"col_heading level0 col13\" >target</th>\n",
              "    </tr>\n",
              "  </thead>\n",
              "  <tbody>\n",
              "    <tr>\n",
              "      <th id=\"T_c5205_level0_row0\" class=\"row_heading level0 row0\" >age</th>\n",
              "      <td id=\"T_c5205_row0_col0\" class=\"data row0 col0\" >1.00</td>\n",
              "      <td id=\"T_c5205_row0_col1\" class=\"data row0 col1\" >-0.10</td>\n",
              "      <td id=\"T_c5205_row0_col2\" class=\"data row0 col2\" >-0.07</td>\n",
              "      <td id=\"T_c5205_row0_col3\" class=\"data row0 col3\" >0.28</td>\n",
              "      <td id=\"T_c5205_row0_col4\" class=\"data row0 col4\" >0.21</td>\n",
              "      <td id=\"T_c5205_row0_col5\" class=\"data row0 col5\" >0.12</td>\n",
              "      <td id=\"T_c5205_row0_col6\" class=\"data row0 col6\" >-0.12</td>\n",
              "      <td id=\"T_c5205_row0_col7\" class=\"data row0 col7\" >-0.40</td>\n",
              "      <td id=\"T_c5205_row0_col8\" class=\"data row0 col8\" >0.10</td>\n",
              "      <td id=\"T_c5205_row0_col9\" class=\"data row0 col9\" >0.21</td>\n",
              "      <td id=\"T_c5205_row0_col10\" class=\"data row0 col10\" >-0.17</td>\n",
              "      <td id=\"T_c5205_row0_col11\" class=\"data row0 col11\" >0.28</td>\n",
              "      <td id=\"T_c5205_row0_col12\" class=\"data row0 col12\" >0.07</td>\n",
              "      <td id=\"T_c5205_row0_col13\" class=\"data row0 col13\" >-0.23</td>\n",
              "    </tr>\n",
              "    <tr>\n",
              "      <th id=\"T_c5205_level0_row1\" class=\"row_heading level0 row1\" >sex</th>\n",
              "      <td id=\"T_c5205_row1_col0\" class=\"data row1 col0\" >-0.10</td>\n",
              "      <td id=\"T_c5205_row1_col1\" class=\"data row1 col1\" >1.00</td>\n",
              "      <td id=\"T_c5205_row1_col2\" class=\"data row1 col2\" >-0.05</td>\n",
              "      <td id=\"T_c5205_row1_col3\" class=\"data row1 col3\" >-0.06</td>\n",
              "      <td id=\"T_c5205_row1_col4\" class=\"data row1 col4\" >-0.20</td>\n",
              "      <td id=\"T_c5205_row1_col5\" class=\"data row1 col5\" >0.05</td>\n",
              "      <td id=\"T_c5205_row1_col6\" class=\"data row1 col6\" >-0.06</td>\n",
              "      <td id=\"T_c5205_row1_col7\" class=\"data row1 col7\" >-0.04</td>\n",
              "      <td id=\"T_c5205_row1_col8\" class=\"data row1 col8\" >0.14</td>\n",
              "      <td id=\"T_c5205_row1_col9\" class=\"data row1 col9\" >0.10</td>\n",
              "      <td id=\"T_c5205_row1_col10\" class=\"data row1 col10\" >-0.03</td>\n",
              "      <td id=\"T_c5205_row1_col11\" class=\"data row1 col11\" >0.12</td>\n",
              "      <td id=\"T_c5205_row1_col12\" class=\"data row1 col12\" >0.21</td>\n",
              "      <td id=\"T_c5205_row1_col13\" class=\"data row1 col13\" >-0.28</td>\n",
              "    </tr>\n",
              "    <tr>\n",
              "      <th id=\"T_c5205_level0_row2\" class=\"row_heading level0 row2\" >cp</th>\n",
              "      <td id=\"T_c5205_row2_col0\" class=\"data row2 col0\" >-0.07</td>\n",
              "      <td id=\"T_c5205_row2_col1\" class=\"data row2 col1\" >-0.05</td>\n",
              "      <td id=\"T_c5205_row2_col2\" class=\"data row2 col2\" >1.00</td>\n",
              "      <td id=\"T_c5205_row2_col3\" class=\"data row2 col3\" >0.05</td>\n",
              "      <td id=\"T_c5205_row2_col4\" class=\"data row2 col4\" >-0.08</td>\n",
              "      <td id=\"T_c5205_row2_col5\" class=\"data row2 col5\" >0.09</td>\n",
              "      <td id=\"T_c5205_row2_col6\" class=\"data row2 col6\" >0.04</td>\n",
              "      <td id=\"T_c5205_row2_col7\" class=\"data row2 col7\" >0.30</td>\n",
              "      <td id=\"T_c5205_row2_col8\" class=\"data row2 col8\" >-0.39</td>\n",
              "      <td id=\"T_c5205_row2_col9\" class=\"data row2 col9\" >-0.15</td>\n",
              "      <td id=\"T_c5205_row2_col10\" class=\"data row2 col10\" >0.12</td>\n",
              "      <td id=\"T_c5205_row2_col11\" class=\"data row2 col11\" >-0.18</td>\n",
              "      <td id=\"T_c5205_row2_col12\" class=\"data row2 col12\" >-0.16</td>\n",
              "      <td id=\"T_c5205_row2_col13\" class=\"data row2 col13\" >0.43</td>\n",
              "    </tr>\n",
              "    <tr>\n",
              "      <th id=\"T_c5205_level0_row3\" class=\"row_heading level0 row3\" >trestbps</th>\n",
              "      <td id=\"T_c5205_row3_col0\" class=\"data row3 col0\" >0.28</td>\n",
              "      <td id=\"T_c5205_row3_col1\" class=\"data row3 col1\" >-0.06</td>\n",
              "      <td id=\"T_c5205_row3_col2\" class=\"data row3 col2\" >0.05</td>\n",
              "      <td id=\"T_c5205_row3_col3\" class=\"data row3 col3\" >1.00</td>\n",
              "      <td id=\"T_c5205_row3_col4\" class=\"data row3 col4\" >0.12</td>\n",
              "      <td id=\"T_c5205_row3_col5\" class=\"data row3 col5\" >0.18</td>\n",
              "      <td id=\"T_c5205_row3_col6\" class=\"data row3 col6\" >-0.11</td>\n",
              "      <td id=\"T_c5205_row3_col7\" class=\"data row3 col7\" >-0.05</td>\n",
              "      <td id=\"T_c5205_row3_col8\" class=\"data row3 col8\" >0.07</td>\n",
              "      <td id=\"T_c5205_row3_col9\" class=\"data row3 col9\" >0.19</td>\n",
              "      <td id=\"T_c5205_row3_col10\" class=\"data row3 col10\" >-0.12</td>\n",
              "      <td id=\"T_c5205_row3_col11\" class=\"data row3 col11\" >0.10</td>\n",
              "      <td id=\"T_c5205_row3_col12\" class=\"data row3 col12\" >0.06</td>\n",
              "      <td id=\"T_c5205_row3_col13\" class=\"data row3 col13\" >-0.14</td>\n",
              "    </tr>\n",
              "    <tr>\n",
              "      <th id=\"T_c5205_level0_row4\" class=\"row_heading level0 row4\" >chol</th>\n",
              "      <td id=\"T_c5205_row4_col0\" class=\"data row4 col0\" >0.21</td>\n",
              "      <td id=\"T_c5205_row4_col1\" class=\"data row4 col1\" >-0.20</td>\n",
              "      <td id=\"T_c5205_row4_col2\" class=\"data row4 col2\" >-0.08</td>\n",
              "      <td id=\"T_c5205_row4_col3\" class=\"data row4 col3\" >0.12</td>\n",
              "      <td id=\"T_c5205_row4_col4\" class=\"data row4 col4\" >1.00</td>\n",
              "      <td id=\"T_c5205_row4_col5\" class=\"data row4 col5\" >0.01</td>\n",
              "      <td id=\"T_c5205_row4_col6\" class=\"data row4 col6\" >-0.15</td>\n",
              "      <td id=\"T_c5205_row4_col7\" class=\"data row4 col7\" >-0.01</td>\n",
              "      <td id=\"T_c5205_row4_col8\" class=\"data row4 col8\" >0.07</td>\n",
              "      <td id=\"T_c5205_row4_col9\" class=\"data row4 col9\" >0.05</td>\n",
              "      <td id=\"T_c5205_row4_col10\" class=\"data row4 col10\" >-0.00</td>\n",
              "      <td id=\"T_c5205_row4_col11\" class=\"data row4 col11\" >0.07</td>\n",
              "      <td id=\"T_c5205_row4_col12\" class=\"data row4 col12\" >0.10</td>\n",
              "      <td id=\"T_c5205_row4_col13\" class=\"data row4 col13\" >-0.09</td>\n",
              "    </tr>\n",
              "    <tr>\n",
              "      <th id=\"T_c5205_level0_row5\" class=\"row_heading level0 row5\" >fbs</th>\n",
              "      <td id=\"T_c5205_row5_col0\" class=\"data row5 col0\" >0.12</td>\n",
              "      <td id=\"T_c5205_row5_col1\" class=\"data row5 col1\" >0.05</td>\n",
              "      <td id=\"T_c5205_row5_col2\" class=\"data row5 col2\" >0.09</td>\n",
              "      <td id=\"T_c5205_row5_col3\" class=\"data row5 col3\" >0.18</td>\n",
              "      <td id=\"T_c5205_row5_col4\" class=\"data row5 col4\" >0.01</td>\n",
              "      <td id=\"T_c5205_row5_col5\" class=\"data row5 col5\" >1.00</td>\n",
              "      <td id=\"T_c5205_row5_col6\" class=\"data row5 col6\" >-0.08</td>\n",
              "      <td id=\"T_c5205_row5_col7\" class=\"data row5 col7\" >-0.01</td>\n",
              "      <td id=\"T_c5205_row5_col8\" class=\"data row5 col8\" >0.03</td>\n",
              "      <td id=\"T_c5205_row5_col9\" class=\"data row5 col9\" >0.01</td>\n",
              "      <td id=\"T_c5205_row5_col10\" class=\"data row5 col10\" >-0.06</td>\n",
              "      <td id=\"T_c5205_row5_col11\" class=\"data row5 col11\" >0.14</td>\n",
              "      <td id=\"T_c5205_row5_col12\" class=\"data row5 col12\" >-0.03</td>\n",
              "      <td id=\"T_c5205_row5_col13\" class=\"data row5 col13\" >-0.03</td>\n",
              "    </tr>\n",
              "    <tr>\n",
              "      <th id=\"T_c5205_level0_row6\" class=\"row_heading level0 row6\" >restecg</th>\n",
              "      <td id=\"T_c5205_row6_col0\" class=\"data row6 col0\" >-0.12</td>\n",
              "      <td id=\"T_c5205_row6_col1\" class=\"data row6 col1\" >-0.06</td>\n",
              "      <td id=\"T_c5205_row6_col2\" class=\"data row6 col2\" >0.04</td>\n",
              "      <td id=\"T_c5205_row6_col3\" class=\"data row6 col3\" >-0.11</td>\n",
              "      <td id=\"T_c5205_row6_col4\" class=\"data row6 col4\" >-0.15</td>\n",
              "      <td id=\"T_c5205_row6_col5\" class=\"data row6 col5\" >-0.08</td>\n",
              "      <td id=\"T_c5205_row6_col6\" class=\"data row6 col6\" >1.00</td>\n",
              "      <td id=\"T_c5205_row6_col7\" class=\"data row6 col7\" >0.04</td>\n",
              "      <td id=\"T_c5205_row6_col8\" class=\"data row6 col8\" >-0.07</td>\n",
              "      <td id=\"T_c5205_row6_col9\" class=\"data row6 col9\" >-0.06</td>\n",
              "      <td id=\"T_c5205_row6_col10\" class=\"data row6 col10\" >0.09</td>\n",
              "      <td id=\"T_c5205_row6_col11\" class=\"data row6 col11\" >-0.07</td>\n",
              "      <td id=\"T_c5205_row6_col12\" class=\"data row6 col12\" >-0.01</td>\n",
              "      <td id=\"T_c5205_row6_col13\" class=\"data row6 col13\" >0.14</td>\n",
              "    </tr>\n",
              "    <tr>\n",
              "      <th id=\"T_c5205_level0_row7\" class=\"row_heading level0 row7\" >thalach</th>\n",
              "      <td id=\"T_c5205_row7_col0\" class=\"data row7 col0\" >-0.40</td>\n",
              "      <td id=\"T_c5205_row7_col1\" class=\"data row7 col1\" >-0.04</td>\n",
              "      <td id=\"T_c5205_row7_col2\" class=\"data row7 col2\" >0.30</td>\n",
              "      <td id=\"T_c5205_row7_col3\" class=\"data row7 col3\" >-0.05</td>\n",
              "      <td id=\"T_c5205_row7_col4\" class=\"data row7 col4\" >-0.01</td>\n",
              "      <td id=\"T_c5205_row7_col5\" class=\"data row7 col5\" >-0.01</td>\n",
              "      <td id=\"T_c5205_row7_col6\" class=\"data row7 col6\" >0.04</td>\n",
              "      <td id=\"T_c5205_row7_col7\" class=\"data row7 col7\" >1.00</td>\n",
              "      <td id=\"T_c5205_row7_col8\" class=\"data row7 col8\" >-0.38</td>\n",
              "      <td id=\"T_c5205_row7_col9\" class=\"data row7 col9\" >-0.34</td>\n",
              "      <td id=\"T_c5205_row7_col10\" class=\"data row7 col10\" >0.39</td>\n",
              "      <td id=\"T_c5205_row7_col11\" class=\"data row7 col11\" >-0.21</td>\n",
              "      <td id=\"T_c5205_row7_col12\" class=\"data row7 col12\" >-0.10</td>\n",
              "      <td id=\"T_c5205_row7_col13\" class=\"data row7 col13\" >0.42</td>\n",
              "    </tr>\n",
              "    <tr>\n",
              "      <th id=\"T_c5205_level0_row8\" class=\"row_heading level0 row8\" >exang</th>\n",
              "      <td id=\"T_c5205_row8_col0\" class=\"data row8 col0\" >0.10</td>\n",
              "      <td id=\"T_c5205_row8_col1\" class=\"data row8 col1\" >0.14</td>\n",
              "      <td id=\"T_c5205_row8_col2\" class=\"data row8 col2\" >-0.39</td>\n",
              "      <td id=\"T_c5205_row8_col3\" class=\"data row8 col3\" >0.07</td>\n",
              "      <td id=\"T_c5205_row8_col4\" class=\"data row8 col4\" >0.07</td>\n",
              "      <td id=\"T_c5205_row8_col5\" class=\"data row8 col5\" >0.03</td>\n",
              "      <td id=\"T_c5205_row8_col6\" class=\"data row8 col6\" >-0.07</td>\n",
              "      <td id=\"T_c5205_row8_col7\" class=\"data row8 col7\" >-0.38</td>\n",
              "      <td id=\"T_c5205_row8_col8\" class=\"data row8 col8\" >1.00</td>\n",
              "      <td id=\"T_c5205_row8_col9\" class=\"data row8 col9\" >0.29</td>\n",
              "      <td id=\"T_c5205_row8_col10\" class=\"data row8 col10\" >-0.26</td>\n",
              "      <td id=\"T_c5205_row8_col11\" class=\"data row8 col11\" >0.12</td>\n",
              "      <td id=\"T_c5205_row8_col12\" class=\"data row8 col12\" >0.21</td>\n",
              "      <td id=\"T_c5205_row8_col13\" class=\"data row8 col13\" >-0.44</td>\n",
              "    </tr>\n",
              "    <tr>\n",
              "      <th id=\"T_c5205_level0_row9\" class=\"row_heading level0 row9\" >oldpeak</th>\n",
              "      <td id=\"T_c5205_row9_col0\" class=\"data row9 col0\" >0.21</td>\n",
              "      <td id=\"T_c5205_row9_col1\" class=\"data row9 col1\" >0.10</td>\n",
              "      <td id=\"T_c5205_row9_col2\" class=\"data row9 col2\" >-0.15</td>\n",
              "      <td id=\"T_c5205_row9_col3\" class=\"data row9 col3\" >0.19</td>\n",
              "      <td id=\"T_c5205_row9_col4\" class=\"data row9 col4\" >0.05</td>\n",
              "      <td id=\"T_c5205_row9_col5\" class=\"data row9 col5\" >0.01</td>\n",
              "      <td id=\"T_c5205_row9_col6\" class=\"data row9 col6\" >-0.06</td>\n",
              "      <td id=\"T_c5205_row9_col7\" class=\"data row9 col7\" >-0.34</td>\n",
              "      <td id=\"T_c5205_row9_col8\" class=\"data row9 col8\" >0.29</td>\n",
              "      <td id=\"T_c5205_row9_col9\" class=\"data row9 col9\" >1.00</td>\n",
              "      <td id=\"T_c5205_row9_col10\" class=\"data row9 col10\" >-0.58</td>\n",
              "      <td id=\"T_c5205_row9_col11\" class=\"data row9 col11\" >0.22</td>\n",
              "      <td id=\"T_c5205_row9_col12\" class=\"data row9 col12\" >0.21</td>\n",
              "      <td id=\"T_c5205_row9_col13\" class=\"data row9 col13\" >-0.43</td>\n",
              "    </tr>\n",
              "    <tr>\n",
              "      <th id=\"T_c5205_level0_row10\" class=\"row_heading level0 row10\" >slope</th>\n",
              "      <td id=\"T_c5205_row10_col0\" class=\"data row10 col0\" >-0.17</td>\n",
              "      <td id=\"T_c5205_row10_col1\" class=\"data row10 col1\" >-0.03</td>\n",
              "      <td id=\"T_c5205_row10_col2\" class=\"data row10 col2\" >0.12</td>\n",
              "      <td id=\"T_c5205_row10_col3\" class=\"data row10 col3\" >-0.12</td>\n",
              "      <td id=\"T_c5205_row10_col4\" class=\"data row10 col4\" >-0.00</td>\n",
              "      <td id=\"T_c5205_row10_col5\" class=\"data row10 col5\" >-0.06</td>\n",
              "      <td id=\"T_c5205_row10_col6\" class=\"data row10 col6\" >0.09</td>\n",
              "      <td id=\"T_c5205_row10_col7\" class=\"data row10 col7\" >0.39</td>\n",
              "      <td id=\"T_c5205_row10_col8\" class=\"data row10 col8\" >-0.26</td>\n",
              "      <td id=\"T_c5205_row10_col9\" class=\"data row10 col9\" >-0.58</td>\n",
              "      <td id=\"T_c5205_row10_col10\" class=\"data row10 col10\" >1.00</td>\n",
              "      <td id=\"T_c5205_row10_col11\" class=\"data row10 col11\" >-0.08</td>\n",
              "      <td id=\"T_c5205_row10_col12\" class=\"data row10 col12\" >-0.10</td>\n",
              "      <td id=\"T_c5205_row10_col13\" class=\"data row10 col13\" >0.35</td>\n",
              "    </tr>\n",
              "    <tr>\n",
              "      <th id=\"T_c5205_level0_row11\" class=\"row_heading level0 row11\" >ca</th>\n",
              "      <td id=\"T_c5205_row11_col0\" class=\"data row11 col0\" >0.28</td>\n",
              "      <td id=\"T_c5205_row11_col1\" class=\"data row11 col1\" >0.12</td>\n",
              "      <td id=\"T_c5205_row11_col2\" class=\"data row11 col2\" >-0.18</td>\n",
              "      <td id=\"T_c5205_row11_col3\" class=\"data row11 col3\" >0.10</td>\n",
              "      <td id=\"T_c5205_row11_col4\" class=\"data row11 col4\" >0.07</td>\n",
              "      <td id=\"T_c5205_row11_col5\" class=\"data row11 col5\" >0.14</td>\n",
              "      <td id=\"T_c5205_row11_col6\" class=\"data row11 col6\" >-0.07</td>\n",
              "      <td id=\"T_c5205_row11_col7\" class=\"data row11 col7\" >-0.21</td>\n",
              "      <td id=\"T_c5205_row11_col8\" class=\"data row11 col8\" >0.12</td>\n",
              "      <td id=\"T_c5205_row11_col9\" class=\"data row11 col9\" >0.22</td>\n",
              "      <td id=\"T_c5205_row11_col10\" class=\"data row11 col10\" >-0.08</td>\n",
              "      <td id=\"T_c5205_row11_col11\" class=\"data row11 col11\" >1.00</td>\n",
              "      <td id=\"T_c5205_row11_col12\" class=\"data row11 col12\" >0.15</td>\n",
              "      <td id=\"T_c5205_row11_col13\" class=\"data row11 col13\" >-0.39</td>\n",
              "    </tr>\n",
              "    <tr>\n",
              "      <th id=\"T_c5205_level0_row12\" class=\"row_heading level0 row12\" >thal</th>\n",
              "      <td id=\"T_c5205_row12_col0\" class=\"data row12 col0\" >0.07</td>\n",
              "      <td id=\"T_c5205_row12_col1\" class=\"data row12 col1\" >0.21</td>\n",
              "      <td id=\"T_c5205_row12_col2\" class=\"data row12 col2\" >-0.16</td>\n",
              "      <td id=\"T_c5205_row12_col3\" class=\"data row12 col3\" >0.06</td>\n",
              "      <td id=\"T_c5205_row12_col4\" class=\"data row12 col4\" >0.10</td>\n",
              "      <td id=\"T_c5205_row12_col5\" class=\"data row12 col5\" >-0.03</td>\n",
              "      <td id=\"T_c5205_row12_col6\" class=\"data row12 col6\" >-0.01</td>\n",
              "      <td id=\"T_c5205_row12_col7\" class=\"data row12 col7\" >-0.10</td>\n",
              "      <td id=\"T_c5205_row12_col8\" class=\"data row12 col8\" >0.21</td>\n",
              "      <td id=\"T_c5205_row12_col9\" class=\"data row12 col9\" >0.21</td>\n",
              "      <td id=\"T_c5205_row12_col10\" class=\"data row12 col10\" >-0.10</td>\n",
              "      <td id=\"T_c5205_row12_col11\" class=\"data row12 col11\" >0.15</td>\n",
              "      <td id=\"T_c5205_row12_col12\" class=\"data row12 col12\" >1.00</td>\n",
              "      <td id=\"T_c5205_row12_col13\" class=\"data row12 col13\" >-0.34</td>\n",
              "    </tr>\n",
              "    <tr>\n",
              "      <th id=\"T_c5205_level0_row13\" class=\"row_heading level0 row13\" >target</th>\n",
              "      <td id=\"T_c5205_row13_col0\" class=\"data row13 col0\" >-0.23</td>\n",
              "      <td id=\"T_c5205_row13_col1\" class=\"data row13 col1\" >-0.28</td>\n",
              "      <td id=\"T_c5205_row13_col2\" class=\"data row13 col2\" >0.43</td>\n",
              "      <td id=\"T_c5205_row13_col3\" class=\"data row13 col3\" >-0.14</td>\n",
              "      <td id=\"T_c5205_row13_col4\" class=\"data row13 col4\" >-0.09</td>\n",
              "      <td id=\"T_c5205_row13_col5\" class=\"data row13 col5\" >-0.03</td>\n",
              "      <td id=\"T_c5205_row13_col6\" class=\"data row13 col6\" >0.14</td>\n",
              "      <td id=\"T_c5205_row13_col7\" class=\"data row13 col7\" >0.42</td>\n",
              "      <td id=\"T_c5205_row13_col8\" class=\"data row13 col8\" >-0.44</td>\n",
              "      <td id=\"T_c5205_row13_col9\" class=\"data row13 col9\" >-0.43</td>\n",
              "      <td id=\"T_c5205_row13_col10\" class=\"data row13 col10\" >0.35</td>\n",
              "      <td id=\"T_c5205_row13_col11\" class=\"data row13 col11\" >-0.39</td>\n",
              "      <td id=\"T_c5205_row13_col12\" class=\"data row13 col12\" >-0.34</td>\n",
              "      <td id=\"T_c5205_row13_col13\" class=\"data row13 col13\" >1.00</td>\n",
              "    </tr>\n",
              "  </tbody>\n",
              "</table>\n"
            ]
          },
          "metadata": {},
          "execution_count": 29
        }
      ]
    },
    {
      "cell_type": "code",
      "source": [
        "knn = KNeighborsClassifier()\n",
        "x = data.drop(columns=['target'])\n",
        "y = data['target']"
      ],
      "metadata": {
        "id": "5z_A-5FXm7L5"
      },
      "execution_count": 30,
      "outputs": []
    },
    {
      "cell_type": "code",
      "source": [
        "x_train, x_test, y_train, y_test = train_test_split(x, y, test_size=0.2, random_state=4)\n",
        "\n",
        "knn.fit(x_train, y_train)\n",
        "y_pred = knn.predict(x_test)\n",
        "\n",
        "#checking performance our model with classification report.\n",
        "print(classification_report(y_test, y_pred))\n",
        "\n",
        "#checking performance our model with ROC score\n",
        "roc_auc_score(y_test, y_pred)"
      ],
      "metadata": {
        "colab": {
          "base_uri": "https://localhost:8080/"
        },
        "id": "VgNNWLyCncWh",
        "outputId": "1615bc8b-61d0-4086-dc5e-7be10f409092"
      },
      "execution_count": 32,
      "outputs": [
        {
          "output_type": "stream",
          "name": "stdout",
          "text": [
            "              precision    recall  f1-score   support\n",
            "\n",
            "           0       0.48      0.52      0.50        25\n",
            "           1       0.65      0.61      0.63        36\n",
            "\n",
            "    accuracy                           0.57        61\n",
            "   macro avg       0.56      0.57      0.56        61\n",
            "weighted avg       0.58      0.57      0.58        61\n",
            "\n"
          ]
        },
        {
          "output_type": "execute_result",
          "data": {
            "text/plain": [
              "0.5655555555555556"
            ]
          },
          "metadata": {},
          "execution_count": 32
        }
      ]
    },
    {
      "cell_type": "code",
      "source": [
        "#List Hyperparameter that we want to time\n",
        "from sklearn.model_selection import GridSearchCV\n",
        "leaf_size = list(range(1, 50))\n",
        "n_neighbors = list(range(1, 30))\n",
        "p = [1, 2]\n",
        "\n",
        " #convert to dictionary\n",
        "hyperparameters = dict(leaf_size = leaf_size, n_neighbors = n_neighbors, p=p)\n",
        "\n",
        " #Create new KNN object\n",
        "knn_2 = KNeighborsClassifier()\n",
        "\n",
        " #Use GridSearchCV\n",
        "\n",
        "clf = GridSearchCV(knn_2, hyperparameters, cv = 10)\n",
        "\n",
        " #fit the model\n",
        "best_model = clf.fit(x, y)\n",
        "\n",
        " #print the value of best Hyperparameters\n",
        "print('Best leaf_size : ', best_model.best_estimator_.get_params()['leaf_size'])\n",
        "\n",
        "print('Best P:', best_model.best_estimator_.get_params()['p'])\n",
        "\n",
        "print(\"Best n_nerighbours:\", best_model.best_estimator_.get_params()['n_neighbors'])"
      ],
      "metadata": {
        "colab": {
          "base_uri": "https://localhost:8080/"
        },
        "id": "Y5ZFyAZto-DK",
        "outputId": "06e4e3dd-a0ce-47f9-e898-391ade3943e7"
      },
      "execution_count": 36,
      "outputs": [
        {
          "output_type": "stream",
          "name": "stdout",
          "text": [
            "Best leaf_size :  1\n",
            "Best P: 1\n",
            "Best n_nerighbours: 7\n"
          ]
        }
      ]
    },
    {
      "cell_type": "code",
      "source": [
        "y_pred = best_model.predict(x_test)"
      ],
      "metadata": {
        "id": "hNNmVlFysYwm"
      },
      "execution_count": 37,
      "outputs": []
    },
    {
      "cell_type": "code",
      "source": [
        "print(classification_report(y_test, y_pred))"
      ],
      "metadata": {
        "colab": {
          "base_uri": "https://localhost:8080/"
        },
        "id": "wQE9uit6wvW4",
        "outputId": "3edd7321-2dea-4878-b644-cb4f9e65e0ce"
      },
      "execution_count": 38,
      "outputs": [
        {
          "output_type": "stream",
          "name": "stdout",
          "text": [
            "              precision    recall  f1-score   support\n",
            "\n",
            "           0       0.72      0.72      0.72        25\n",
            "           1       0.81      0.81      0.81        36\n",
            "\n",
            "    accuracy                           0.77        61\n",
            "   macro avg       0.76      0.76      0.76        61\n",
            "weighted avg       0.77      0.77      0.77        61\n",
            "\n"
          ]
        }
      ]
    },
    {
      "cell_type": "code",
      "source": [
        "roc_auc_score(y_test, y_pred)"
      ],
      "metadata": {
        "colab": {
          "base_uri": "https://localhost:8080/"
        },
        "id": "9dBY90gqw_zD",
        "outputId": "20164c88-6b87-4830-b08d-7f3a083d53af"
      },
      "execution_count": 39,
      "outputs": [
        {
          "output_type": "execute_result",
          "data": {
            "text/plain": [
              "0.7627777777777778"
            ]
          },
          "metadata": {},
          "execution_count": 39
        }
      ]
    },
    {
      "cell_type": "code",
      "source": [
        ""
      ],
      "metadata": {
        "id": "RkAZc5JjxIHM"
      },
      "execution_count": null,
      "outputs": []
    }
  ]
}